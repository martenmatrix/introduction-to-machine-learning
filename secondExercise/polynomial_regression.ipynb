{
 "cells": [
  {
   "cell_type": "code",
   "execution_count": 38,
   "metadata": {
    "ExecuteTime": {
     "end_time": "2023-11-10T15:42:29.485607343Z",
     "start_time": "2023-11-10T15:42:29.470986346Z"
    }
   },
   "outputs": [],
   "source": [
    "import numpy as np\n",
    "from matplotlib import pyplot as plt\n",
    "import csv\n",
    "from sklearn.preprocessing import PolynomialFeatures\n",
    "from sklearn.linear_model import LinearRegression\n",
    "from sklearn.model_selection import KFold\n",
    "\n",
    "import pandas as pd"
   ]
  },
  {
   "cell_type": "code",
   "execution_count": 39,
   "metadata": {
    "ExecuteTime": {
     "end_time": "2023-11-10T15:42:29.757166991Z",
     "start_time": "2023-11-10T15:42:29.753206837Z"
    }
   },
   "outputs": [],
   "source": [
    "def load_dataset_csv(data_path):\n",
    "    with open(data_path, newline='') as f:\n",
    "        csv_reader = csv.reader(f)    \n",
    "\n",
    "        next(csv_reader)\n",
    "\n",
    "        X = []\n",
    "        y = []\n",
    "\n",
    "        for row in csv_reader:\n",
    "            X.append(row[0])\n",
    "            y.append(row[1])\n",
    "        \n",
    "    X = np.array(X, dtype=float)\n",
    "    y = np.array(y, dtype=float)\n",
    "    \n",
    "    sorted_indices = np.argsort(X) # sort arrays x = [3, 1, 2], np.argsort(x) will return [1, 2, 0]\n",
    "    x_sorted = X[sorted_indices]\n",
    "    y_sorted = y[sorted_indices]\n",
    "\n",
    "    return x_sorted, y_sorted"
   ]
  },
  {
   "cell_type": "code",
   "execution_count": 40,
   "metadata": {
    "ExecuteTime": {
     "end_time": "2023-11-10T15:42:29.982478643Z",
     "start_time": "2023-11-10T15:42:29.977770425Z"
    }
   },
   "outputs": [],
   "source": [
    "def polynomial_regression(X, y, n):\n",
    "    poly = PolynomialFeatures(degree=n, include_bias=False)\n",
    "    poly_features = poly.fit_transform(X.reshape(-1, 1)) # transform to 2d array, [[index, value]]\n",
    "    poly_reg_model = LinearRegression()\n",
    "    poly_reg_model.fit(poly_features, y)\n",
    "    y_predicted = poly_reg_model.predict(poly_features)\n",
    "    \n",
    "    \n",
    "    return y_predicted"
   ]
  },
  {
   "cell_type": "code",
   "execution_count": 41,
   "metadata": {
    "ExecuteTime": {
     "end_time": "2023-11-10T15:42:30.233447338Z",
     "start_time": "2023-11-10T15:42:30.224711775Z"
    }
   },
   "outputs": [],
   "source": [
    "def kfold_crossval(X, y, n, k=10):\n",
    "    kf = KFold(k)\n",
    "    meanSquaredErros = []\n",
    "    \n",
    "    \n",
    "    for train_index, test_index in kf.split(X):\n",
    "        X_train, X_test = X[train_index], X[test_index] \n",
    "        y_train, y_test = y[train_index], y[test_index]\n",
    "        \n",
    "    \n",
    "    # iterate in k folds through the dataset X (data points), y (predictions) \n",
    "        # for each fold:\n",
    "            # train regression model (polynomial regression of degree n)\n",
    "            # test on validation data\n",
    "\n",
    "    # return mean loss\n",
    "    pass"
   ]
  },
  {
   "cell_type": "code",
   "execution_count": 42,
   "metadata": {
    "ExecuteTime": {
     "end_time": "2023-11-10T15:42:30.587673567Z",
     "start_time": "2023-11-10T15:42:30.582554107Z"
    }
   },
   "outputs": [],
   "source": [
    "def find_best_poly_model(X, y, n=9):\n",
    "\n",
    "    #TODO\n",
    "    # for each degree:\n",
    "        # find k-fold mean loss\n",
    "    # select best model\n",
    "    # return degree\n",
    "    pass"
   ]
  },
  {
   "cell_type": "code",
   "execution_count": 43,
   "metadata": {
    "ExecuteTime": {
     "end_time": "2023-11-10T15:42:30.886983Z",
     "start_time": "2023-11-10T15:42:30.879480205Z"
    }
   },
   "outputs": [],
   "source": [
    "def plot(X, y, w):\n",
    "    \"\"\"\n",
    "    This functions plots 2D data assuming a linear model with\n",
    "    polynomial basis functions. The weights have to be provided\n",
    "    in ascending order in the degree of polynomials.\n",
    "    \"\"\"\n",
    "\n",
    "    plt.plot(X, y, \".r\", markersize=8, label=\"Samples\")\n",
    "\n",
    "    x_plot = np.linspace(np.min(X), np.max(X), 100)\n",
    "    X_plot = np.vander(x_plot, N=len(w))\n",
    "\n",
    "    # set plotting range properly\n",
    "    plt.ylim((np.min(y) * 1.2, np.max(y) * 1.2))\n",
    "\n",
    "    plt.plot(\n",
    "        x_plot,\n",
    "        X_plot @ w,\n",
    "        linewidth=5,\n",
    "        color=\"tab:blue\",\n",
    "        label=\"Model\",\n",
    "    )\n",
    "\n",
    "    plt.tight_layout()\n",
    "    plt.show()"
   ]
  },
  {
   "cell_type": "code",
   "execution_count": 44,
   "metadata": {
    "ExecuteTime": {
     "end_time": "2023-11-10T15:42:31.454815593Z",
     "start_time": "2023-11-10T15:42:31.336962350Z"
    }
   },
   "outputs": [
    {
     "ename": "TypeError",
     "evalue": "object of type 'int' has no len()",
     "output_type": "error",
     "traceback": [
      "\u001B[0;31m---------------------------------------------------------------------------\u001B[0m",
      "\u001B[0;31mTypeError\u001B[0m                                 Traceback (most recent call last)",
      "Cell \u001B[0;32mIn[44], line 5\u001B[0m\n\u001B[1;32m      3\u001B[0m dataset0X, dataset0Y \u001B[38;5;241m=\u001B[39m load_dataset_csv(\u001B[38;5;124m'\u001B[39m\u001B[38;5;124m./dataset0.csv\u001B[39m\u001B[38;5;124m'\u001B[39m)\n\u001B[1;32m      4\u001B[0m predicted_y \u001B[38;5;241m=\u001B[39m polynomial_regression(dataset0X, dataset0Y, \u001B[38;5;241m2\u001B[39m)\n\u001B[0;32m----> 5\u001B[0m \u001B[43mplot\u001B[49m\u001B[43m(\u001B[49m\u001B[43mdataset0X\u001B[49m\u001B[43m,\u001B[49m\u001B[43m \u001B[49m\u001B[43mpredicted_y\u001B[49m\u001B[43m,\u001B[49m\u001B[43m \u001B[49m\u001B[38;5;241;43m1\u001B[39;49m\u001B[43m)\u001B[49m\n\u001B[1;32m      6\u001B[0m plt\u001B[38;5;241m.\u001B[39mshow()\n\u001B[1;32m      8\u001B[0m dataset1X, dataset1Y \u001B[38;5;241m=\u001B[39m load_dataset_csv(\u001B[38;5;124m'\u001B[39m\u001B[38;5;124m./dataset1.csv\u001B[39m\u001B[38;5;124m'\u001B[39m)\n",
      "Cell \u001B[0;32mIn[43], line 11\u001B[0m, in \u001B[0;36mplot\u001B[0;34m(X, y, w)\u001B[0m\n\u001B[1;32m      8\u001B[0m plt\u001B[38;5;241m.\u001B[39mplot(X, y, \u001B[38;5;124m\"\u001B[39m\u001B[38;5;124m.r\u001B[39m\u001B[38;5;124m\"\u001B[39m, markersize\u001B[38;5;241m=\u001B[39m\u001B[38;5;241m8\u001B[39m, label\u001B[38;5;241m=\u001B[39m\u001B[38;5;124m\"\u001B[39m\u001B[38;5;124mSamples\u001B[39m\u001B[38;5;124m\"\u001B[39m)\n\u001B[1;32m     10\u001B[0m x_plot \u001B[38;5;241m=\u001B[39m np\u001B[38;5;241m.\u001B[39mlinspace(np\u001B[38;5;241m.\u001B[39mmin(X), np\u001B[38;5;241m.\u001B[39mmax(X), \u001B[38;5;241m100\u001B[39m)\n\u001B[0;32m---> 11\u001B[0m X_plot \u001B[38;5;241m=\u001B[39m np\u001B[38;5;241m.\u001B[39mvander(x_plot, N\u001B[38;5;241m=\u001B[39m\u001B[38;5;28;43mlen\u001B[39;49m\u001B[43m(\u001B[49m\u001B[43mw\u001B[49m\u001B[43m)\u001B[49m)\n\u001B[1;32m     13\u001B[0m \u001B[38;5;66;03m# set plotting range properly\u001B[39;00m\n\u001B[1;32m     14\u001B[0m plt\u001B[38;5;241m.\u001B[39mylim((np\u001B[38;5;241m.\u001B[39mmin(y) \u001B[38;5;241m*\u001B[39m \u001B[38;5;241m1.2\u001B[39m, np\u001B[38;5;241m.\u001B[39mmax(y) \u001B[38;5;241m*\u001B[39m \u001B[38;5;241m1.2\u001B[39m))\n",
      "\u001B[0;31mTypeError\u001B[0m: object of type 'int' has no len()"
     ]
    },
    {
     "data": {
      "text/plain": "<Figure size 640x480 with 1 Axes>",
      "image/png": "[encoded data removed]"
     },
     "metadata": {},
     "output_type": "display_data"
    }
   ],
   "source": [
    "# TODO\n",
    "\n",
    "dataset0X, dataset0Y = load_dataset_csv('./dataset0.csv')\n",
    "predicted_y = polynomial_regression(dataset0X, dataset0Y, 2)\n",
    "plt.plot(dataset0X, predicted_y)\n",
    "plt.show()\n",
    "\n",
    "dataset1X, dataset1Y = load_dataset_csv('./dataset1.csv')\n",
    "predicted_y = polynomial_regression(dataset1X, dataset1Y, 2)\n",
    "plt.plot(dataset1X, predicted_y)\n",
    "plt.show()\n",
    "\n",
    "dataset2X, dataset2Y = load_dataset_csv('./dataset2.csv')\n",
    "predicted_y = polynomial_regression(dataset2X, dataset2Y, 2)\n",
    "plt.plot(dataset2X, predicted_y)\n",
    "plt.show()\n",
    "\n",
    "# Find best degree polynomial\n",
    "# fit whole dataset\n",
    "# look at results"
   ]
  },
  {
   "cell_type": "code",
   "execution_count": null,
   "outputs": [],
   "source": [],
   "metadata": {
    "collapsed": false
   }
  }
 ],
 "metadata": {
  "kernelspec": {
   "display_name": "mmpdb",
   "language": "python",
   "name": "python3"
  },
  "language_info": {
   "codemirror_mode": {
    "name": "ipython",
    "version": 3
   },
   "file_extension": ".py",
   "mimetype": "text/x-python",
   "name": "python",
   "nbconvert_exporter": "python",
   "pygments_lexer": "ipython3",
   "version": "3.9.16"
  },
  "orig_nbformat": 4
 },
 "nbformat": 4,
 "nbformat_minor": 2
}
