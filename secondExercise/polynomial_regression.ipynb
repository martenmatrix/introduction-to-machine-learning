{
 "cells": [
  {
   "cell_type": "code",
   "execution_count": 3,
   "metadata": {},
   "outputs": [],
   "source": [
    "import numpy as np\n",
    "from matplotlib import pyplot as plt\n",
    "import csv\n",
    "import pandas as pd"
   ]
  },
  {
   "cell_type": "code",
   "execution_count": 4,
   "metadata": {},
   "outputs": [],
   "source": [
    "def load_dataset_csv(data_path):\n",
    "    with open(data_path, newline='') as f:\n",
    "        csv_reader = csv.reader(f)    \n",
    "\n",
    "        next(csv_reader)\n",
    "\n",
    "        X = []\n",
    "        y = []\n",
    "\n",
    "        for row in csv_reader:\n",
    "            X.append(row[0])\n",
    "            y.append(row[1])\n",
    "        \n",
    "    X = np.array(X, dtype=float)\n",
    "    y = np.array(y, dtype=float)\n",
    "\n",
    "    return X, y"
   ]
  },
  {
   "cell_type": "code",
   "execution_count": 5,
   "metadata": {},
   "outputs": [],
   "source": [
    "def polynomial_regression(X, y, n):\n",
    "    #TODO\n",
    "    # Implement a function that carries out polynomial regression and returns\n",
    "    # a scikit learn regressor or parameters\n",
    "    pass"
   ]
  },
  {
   "cell_type": "code",
   "execution_count": 6,
   "metadata": {},
   "outputs": [],
   "source": [
    "def kfold_crossval(X, y, n, k=10):\n",
    "\n",
    "    #TODO\n",
    "    # iterate in k folds through the dataset X (data points), y (predictions) \n",
    "        # for each fold:\n",
    "            # train regression model (polynomial regression of degree n)\n",
    "            # test on validation data\n",
    "\n",
    "    # return mean loss\n",
    "    pass"
   ]
  },
  {
   "cell_type": "code",
   "execution_count": 7,
   "metadata": {},
   "outputs": [],
   "source": [
    "def find_best_poly_model(X, y, n=9):\n",
    "\n",
    "    #TODO\n",
    "    # for each degree:\n",
    "        # find k-fold mean loss\n",
    "    # select best model\n",
    "    # return degree\n",
    "    pass"
   ]
  },
  {
   "cell_type": "code",
   "execution_count": 8,
   "metadata": {},
   "outputs": [],
   "source": [
    "def plot(X, y, w):\n",
    "    \"\"\"\n",
    "    This functions plots 2D data assuming a linear model with\n",
    "    polynomial basis functions. The weights have to be provided\n",
    "    in ascending order in the degree of polynomials.\n",
    "    \"\"\"\n",
    "\n",
    "    plt.plot(X, y, \".r\", markersize=8, label=\"Samples\")\n",
    "\n",
    "    x_plot = np.linspace(np.min(X), np.max(X), 100)\n",
    "    X_plot = np.vander(x_plot, N=len(w))\n",
    "\n",
    "    # set plotting range properly\n",
    "    plt.ylim((np.min(y) * 1.2, np.max(y) * 1.2))\n",
    "\n",
    "    plt.plot(\n",
    "        x_plot,\n",
    "        X_plot @ w,\n",
    "        linewidth=5,\n",
    "        color=\"tab:blue\",\n",
    "        label=\"Model\",\n",
    "    )\n",
    "\n",
    "    plt.tight_layout()\n",
    "    plt.show()"
   ]
  },
  {
   "cell_type": "code",
   "execution_count": 9,
   "metadata": {},
   "outputs": [],
   "source": [
    "# TODO\n",
    "# Visualize dataset\n",
    "# Find best degree polynomial\n",
    "# fit whole dataset\n",
    "# look at results"
   ]
  }
 ],
 "metadata": {
  "kernelspec": {
   "display_name": "mmpdb",
   "language": "python",
   "name": "python3"
  },
  "language_info": {
   "codemirror_mode": {
    "name": "ipython",
    "version": 3
   },
   "file_extension": ".py",
   "mimetype": "text/x-python",
   "name": "python",
   "nbconvert_exporter": "python",
   "pygments_lexer": "ipython3",
   "version": "3.9.16"
  },
  "orig_nbformat": 4
 },
 "nbformat": 4,
 "nbformat_minor": 2
}
